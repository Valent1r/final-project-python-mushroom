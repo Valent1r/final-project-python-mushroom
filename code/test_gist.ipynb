{
 "cells": [
  

{
   "cell_type": "code",
   "execution_count": 1,
   "metadata": {
    "collapsed": false,
    "jupyter": {
     "outputs_hidden": false
    }
   },
   "outputs": [],
   "source": [
    "!pip install webdriver_manager
     !pip install Image"
   ]
  },
{
   "cell_type": "markdown",
   "metadata": {},
   "source": [
    "##Extracts information about mushrooms from the website http://www.mushroom.world.
-1.uses the BeautifulSoup library (from bs4 import BeautifulSoup) to perform HTML analysis of web pages, and the modules requests, re, json, and urljoin to make HTTP requests, handle regular expressions, process JSON data, and manage URLs, respectively.

-2.scrape_mushroom_list(url) takes a URL as a parameter, retrieves the HTML content of the page, finds all links pointing to individual mushroom pages, and then uses the function scrape_mushroom(url) to extract specific information about each mushroom.

-3.The function scrape_mushroom(url) retrieves information such as the name, labels, texts, and images for a specific mushroom from its individual page.

-4.The script uses a dictionary (edibility_dict) to store information about the edibility of mushrooms, where "c" stands for edible, and "p" stands for poisonous.

-5.The edibility information for each mushroom extracted from the web page is removed since the value is empty, and the edibility is added to the final output each extracted mushroom.

###Script displays information about all mushrooms in an indented JSON string."
   ]
  },
  {
   "cell_type": "markdown",
   "metadata": {},
   "source": [
    "You can customize the `command` mode shortcuts from within the Notebook Application itself. \n",
    "\n",
    "Head to the **Settings** menu and select the **Settings Editor** item.\n",
    "A dialog will guide you through the process of adding custom keyboard shortcuts.\n",
    "\n",
    "Keyboard shortcut set from within the Notebook Application will be persisted to your configuration file. \n",
    "A single action may have several shortcuts attached to it."
   ]
  }
 ],
 "metadata": {
  "kernelspec": {
   "display_name": "Python 3",
   "language": "python",
   "name": "python3"
  },
  "language_info": {
   "codemirror_mode": {
    "name": "ipython",
    "version": 3
   },
   "file_extension": ".py",
   "mimetype": "text/x-python",
   "name": "python",
   "nbconvert_exporter": "python",
   "pygments_lexer": "ipython3",
   "version": "3.5.2"
  },
  "nbsphinx": {
   "execute": "never"
  }
 },
 "nbformat": 4,
 "nbformat_minor": 1
}
