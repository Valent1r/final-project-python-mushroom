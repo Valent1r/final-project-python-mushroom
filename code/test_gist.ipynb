{
 "cells": [
  {
   "cell_type": "markdown",
   "metadata": {},
   "source": [
    "# PROJET MUSHROOM\n",
     "\n",
     "## This is our main for our AI projet in python, for the milestone.\n",
     "\n",
     "We start by clearing the json and making it readable in a good format"
   ]
  },
   {
   "cell_type": "code",
   "execution_count": 1,
   "metadata": {
    "collapsed": false,
    "jupyter": {
     "outputs_hidden": false
    }
   },
   "outputs": [],
   "source": [
    "!pip install Pillow"
   ]
  },

{
   "cell_type": "code",
   "execution_count": 3,
   "metadata": {
    "collapsed": false,
    "jupyter": {
     "outputs_hidden": false
    }
   },
   "outputs": [
    {
     "name": "stdout",
     "output_type": "stream",
     "text": [
      "<DirectView [0, 1, 2, 3,...]>"
     ]
    }
   ],
   "source": [
    "from PIL import Image\n",
"from io import BytesIO\n",
"import numpy as np\n",
"import requests\n",
"import os\n",
"\n",
"if not os.path.exists('images'):\n",
     "   # Create the directory if it doesn't exist\n",
      "  os.makedirs('images')\n",

"for i in range(len(df)):\n",
"   # Make a GET request to the URL\n",
 "   url = df['images'][i]\n",
 "   response = requests.get(url)\n",
 "   response.raise_for_status()  # Check if the request was successful\n",
"\n",
  "  if response.status_code == 200:\n",
   "     # Convert the image to base64\n",
    "    image = Image.open(BytesIO(response.content))\n",
     "   image = image.resize((64, 64))\n",
      "  image.save(f'images/{i+1}.png')\n",
    "else:\n",
     "   # If the request was not successful, print an error message\n",
      "  print(f'Error: Unable to fetch image from {url}. Status code: {response.status_code}')\n",
"\n",
 "   if i%50 == 0:\n",
  "      print(f'Image {i}/{len(df)}')\n"
   ]
},


],
"metadata": {
  "kernelspec": {
   "display_name": "Python 3",
   "language": "python",
   "name": "python3"
  },
  "language_info": {
   "codemirror_mode": {
    "name": "ipython",
    "version": 3
   },
   
  "nbsphinx": {
   "execute": "never"
  }
 },
 "nbformat": 4,
 "nbformat_minor": 1
}
}
