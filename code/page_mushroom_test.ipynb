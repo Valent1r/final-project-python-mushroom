{
 "cells": [
  {
   "cell_type": "markdown",
   "metadata": {},
   "source": [
    "# PROJET MUSHROOM\n",
     "\n",
     "## This is our main for our AI projet in python, for the milestone.\n",
     "\n",
     "We start by clearing the json and making it readable in a good format"
   ]
  },
   {
   "cell_type": "code",
   "execution_count": 1,
   "metadata": {
    "collapsed": false,
    "jupyter": {
     "outputs_hidden": false
    }
   },
   "outputs": [],
   "source": [
    "!pip install Pillow"
   ]
  },
{
   "cell_type": "code",
   "execution_count": 2,
   "metadata": {
    "collapsed": false,
    "jupyter": {
     "outputs_hidden": false
    }
   },
   "outputs": [],
   "source": [
    "import pandas as pd\n",
"\n",
"file_path = 'champiURL.json'",
"\n",
"df = pd.read_json(file_path)",
"\n",
"df = df.explode('images', ignore_index = True)",
"\n",
"df = df.drop(columns=['info'])",
"\n",
"mapping = {",
  "  'c' : 1,",
  "  'p' : 0",
"}",
"\n",
"df['comestibility'] = df['comestibility'].map(mapping)",
"\n",
"df = df.dropna().reset_index()",
"\n",
"df['comestibility'] = df['comestibility'].astype(int)",
"\n",
"df"
   ]
  },
{
   "cell_type": "code",
   "execution_count": 3,
   "metadata": {
    "collapsed": false,
    "jupyter": {
     "outputs_hidden": false
    }
   },
   "outputs": [
    {
     "name": "stdout",
     "output_type": "stream",
     "text": [
      "<DirectView [0, 1, 2, 3,...]>"
     ]
    }
   ],
   "source": [
    "from PIL import Image\n",
"from io import BytesIO\n",
"import numpy as np\n",
"import requests\n",
"import os\n",
"\n",
"if not os.path.exists('images'):\n",
     "   # Create the directory if it doesn't exist\n",
      "  os.makedirs('images')\n",

"for i in range(len(df)):\n",
"   # Make a GET request to the URL\n",
 "   url = df['images'][i]\n",
 "   response = requests.get(url)\n",
 "   response.raise_for_status()  # Check if the request was successful\n",
"\n",
  "  if response.status_code == 200:\n",
   "     # Convert the image to base64\n",
    "    image = Image.open(BytesIO(response.content))\n",
     "   image = image.resize((64, 64))\n",
      "  image.save(f'images/{i+1}.png')\n",
    "else:\n",
     "   # If the request was not successful, print an error message\n",
      "  print(f'Error: Unable to fetch image from {url}. Status code: {response.status_code}')\n",
"\n",
 "   if i%50 == 0:\n",
  "      print(f'Image {i}/{len(df)}')\n"
   ]
},

{
   "cell_type": "markdown",
   "metadata": {},
   "source": [
    "###Simple publication.\n",
    "\n",
    "Here is a simple Python function we are going to run on the Engines.  This function uses `publish_data` to publish a simple Python dictionary when it is run."
   ]
  },
{
   "cell_type": "code",
   "execution_count": 4,
   "metadata": {
    "collapsed": false,
    "jupyter": {
     "outputs_hidden": false
    }
   },
   "outputs": [],
   "source": [
    "def publish_it():\n",
      "    from IPython.kernel.zmq.datapub import publish_data\n",
      "    publish_data(dict(a='hi'))"
   ]
  },
{
   "cell_type": "markdown",
   "metadata": {},
   "source": [
    "\n",
    "We run the function on the Engines using `apply_async` and save the returned `AsyncResult` object:\n"
   ]
  },
{
   "cell_type": "code",
   "execution_count": 5,
   "metadata": {
    "collapsed": false,
    "jupyter": {
     "outputs_hidden": false
    }
   },
   "outputs": [],
   "source": [
    "ar = dv.apply_async(publish_it)"
   ]
  },
{
   "cell_type": "markdown",
   "metadata": {},
   "source": [
    "\n",
    "The published data from each engine is then available under the `.data` attribute of the `AsyncResult` object.\n"
   ]
  },
{
   "cell_type": "code",
   "execution_count": 6,
   "metadata": {
    "collapsed": false,
    "jupyter": {
     "outputs_hidden": false
    }
   },
   "outputs": [{
     "name": "stdout",
     "output_type": "stream",
     "text": [
      "[{'a': 'hi'},\n",
        " {'a': 'hi'},\n",
        " {'a': 'hi'},\n",
        " {'a': 'hi'},\n",
        " {'a': 'hi'},\n",
        " {'a': 'hi'},\n",
        " {'a': 'hi'},\n",
        " {'a': 'hi'}]"
     ]
    }
],
   "source": [
    "ar.data"
   ]
  },
{
   "cell_type": "markdown",
   "metadata": {},
   "source": [
    "\n",
    "Each time `publish_data` is called, the `.data` attribute is updated with the most recently published data.\n",
    "## Simulation loop"
   ]
  },
{
   "cell_type": "markdown",
   "metadata": {},
   "source": [
    "\n",
    "In many cases, the Engines will be running a simulation loop and we will want to publish data at each time step of the simulation.  To show how this works, we create a mock simulation function that iterates over a loop and publishes a NumPy array and loop variable at each time step. By inserting a call to `time.sleep(1)`, we ensure that new data will be published every second.\n"
   ]
  },
{
   "cell_type": "code",
   "execution_count": 7,
   "metadata": {
    "collapsed": false,
    "jupyter": {
     "outputs_hidden": false
    }
   },
   "outputs": [],
   "source": [
    "def simulation_loop():\n",
      "    from IPython.kernel.zmq.datapub import publish_data\n",
      "    import time\n",
      "    import numpy as np\n",
      "    for i in range(10):\n",
      "        publish_data(dict(a=np.random.rand(20), i=i))\n",
      "        time.sleep(1)"
   ]
  },
{
   "cell_type": "markdown",
   "metadata": {},
   "source": [
    "\n",
    "Again, we run the `simulation_loop` function in parallel using `apply_async` and save the returned `AsyncResult` object.\n"
]
  },
{
   "cell_type": "code",
   "execution_count": 8,
   "metadata": {
    "collapsed": false,
    "jupyter": {
     "outputs_hidden": false
    }
   },
   "outputs": [],
   "source": [
    "ar = dv.apply_async(simulation_loop)"
   ]
  },
{
   "cell_type": "markdown",
   "metadata": {},
   "source": [
    "\n",
    "New data will be published by the Engines every second.  Anytime we access `ar.data`, we will get the most recently published data.\n"
]
  },
{
   "cell_type": "code",
   "execution_count": 9,
   "metadata": {
    "collapsed": false,
    "jupyter": {
     "outputs_hidden": false
    }
   },
   "outputs": [{"name": "stdout",
     "output_type": "stream",
     "text": ["<matplotlib.legend.Legend at 0x10c41e910>"
     ]
    }
],
   "source": [
    "import matplotlib.pyplot as plt\n",
    "\n",
    "data = ar.data\n",
      "for i, d in enumerate(data):\n",
      "    plt.plot(d['a'], label='engine: '+str(i))\n",
      "plt.title('Data published at time step: ' + str(data[0]['i']))\n",
      "plt.legend()"
   ]
  },


{
   "cell_type": "code",
   "execution_count": 9,
   "metadata": {
    "collapsed": false,
    "jupyter": {
     "outputs_hidden": false
    }
   },
   "outputs": [{"name": "stdout",
     "output_type": "stream",
     "text": ["<matplotlib.figure.Figure at 0x10c41e850>"
     ]
    }
],
   "source": [
"image"]  
},




      











  {
   "cell_type": "markdown",
   "metadata": {},
   "source": [
    "## The Cauchy-Schwarz Inequality\n",
    "### Source\n",
    "```\n",
    "\\begin{equation*}\n",
    "\\left( \\sum_{k=1}^n a_k b_k \\right)^2 \\leq \\left( \\sum_{k=1}^n a_k^2 \\right) \\left( \\sum_{k=1}^n b_k^2 \\right)\n",
    "\\end{equation*}\n",
    "```\n",
    "### Display\n",
    "\n",
    "$\\begin{equation*}\n",
    "\\left( \\sum_{k=1}^n a_k b_k \\right)^2 \\leq \\left( \\sum_{k=1}^n a_k^2 \\right) \\left( \\sum_{k=1}^n b_k^2 \\right)\n",
    "\\end{equation*}$"
   ]
  },
  {
   "cell_type": "markdown",
   "metadata": {},
   "source": [
    "## A Cross Product Formula\n",
    "### Source\n",
    "```\n",
    "\\begin{equation*}\n",
    "\\mathbf{V}_1 \\times \\mathbf{V}_2 =  \\begin{vmatrix}\n",
    "\\mathbf{i} & \\mathbf{j} & \\mathbf{k} \\\\\n",
    "\\frac{\\partial X}{\\partial u} &  \\frac{\\partial Y}{\\partial u} & 0 \\\\\n",
    "\\frac{\\partial X}{\\partial v} &  \\frac{\\partial Y}{\\partial v} & 0\n",
    "\\end{vmatrix}  \n",
    "\\end{equation*}\n",
    "```\n",
    "### Display\n",
    "\n",
    "$\\begin{equation*}\n",
    "\\mathbf{V}_1 \\times \\mathbf{V}_2 =  \\begin{vmatrix}\n",
    "\\mathbf{i} & \\mathbf{j} & \\mathbf{k} \\\\\n",
    "\\frac{\\partial X}{\\partial u} &  \\frac{\\partial Y}{\\partial u} & 0 \\\\\n",
    "\\frac{\\partial X}{\\partial v} &  \\frac{\\partial Y}{\\partial v} & 0\n",
    "\\end{vmatrix}  \n",
    "\\end{equation*}$"
   ]
  },
  {
   "cell_type": "markdown",
   "metadata": {},
   "source": [
    "## The probability of getting \\(k\\) heads when flipping \\(n\\) coins is\n",
    "### Source\n",
    "```\n",
    "\\begin{equation*}\n",
    "P(E)   = {n \\choose k} p^k (1-p)^{ n-k} \n",
    "\\end{equation*}\n",
    "```\n",
    "### Display\n",
    "\n",
    "$\\begin{equation*}\n",
    "P(E)   = {n \\choose k} p^k (1-p)^{ n-k} \n",
    "\\end{equation*}$"
   ]
  },
  {
   "cell_type": "markdown",
   "metadata": {},
   "source": [
    "## An Identity of Ramanujan\n",
    "### Source\n",
    "```\n",
    "\\begin{equation*}\n",
    "\\frac{1}{\\Bigl(\\sqrt{\\phi \\sqrt{5}}-\\phi\\Bigr) e^{\\frac25 \\pi}} =\n",
    "1+\\frac{e^{-2\\pi}} {1+\\frac{e^{-4\\pi}} {1+\\frac{e^{-6\\pi}}\n",
    "{1+\\frac{e^{-8\\pi}} {1+\\ldots} } } } \n",
    "\\end{equation*}\n",
    "```\n",
    "### Display\n",
    "$\\begin{equation*}\n",
    "\\frac{1}{\\Bigl(\\sqrt{\\phi \\sqrt{5}}-\\phi\\Bigr) e^{\\frac25 \\pi}} =\n",
    "1+\\frac{e^{-2\\pi}} {1+\\frac{e^{-4\\pi}} {1+\\frac{e^{-6\\pi}}\n",
    "{1+\\frac{e^{-8\\pi}} {1+\\ldots} } } } \n",
    "\\end{equation*}$"
   ]
  },
  {
   "cell_type": "markdown",
   "metadata": {},
   "source": [
    "## A Rogers-Ramanujan Identity\n",
    "### Source\n",
    "```\n",
    "\\begin{equation*}\n",
    "1 +  \\frac{q^2}{(1-q)}+\\frac{q^6}{(1-q)(1-q^2)}+\\cdots =\n",
    "\\prod_{j=0}^{\\infty}\\frac{1}{(1-q^{5j+2})(1-q^{5j+3})},\n",
    "\\quad\\quad \\text{for $|q|<1$}. \n",
    "\\end{equation*}\n",
    "```\n",
    "### Display\n",
    "\n",
    "$$\\begin{equation*}\n",
    "1 + \\frac{q^2}{(1-q)}+\\frac{q^6}{(1-q)(1-q^2)}+\\cdots =\n",
    "\\prod_{j=0}^{\\infty}\\frac{1}{(1-q^{5j+2})(1-q^{5j+3})},\n",
    "\\quad\\quad \\text{for $|q|<1$}. \n",
    "\\end{equation*}$$"
   ]
  },
  {
   "cell_type": "markdown",
   "metadata": {},
   "source": [
    "## Maxwell's Equations\n",
    "### Source\n",
    "```\n",
    "\\begin{align}\n",
    "\\nabla \\times \\vec{\\mathbf{B}} -\\, \\frac1c\\, \\frac{\\partial\\vec{\\mathbf{E}}}{\\partial t} & = \\frac{4\\pi}{c}\\vec{\\mathbf{j}} \\\\   \\nabla \\cdot \\vec{\\mathbf{E}} & = 4 \\pi \\rho \\\\\n",
    "\\nabla \\times \\vec{\\mathbf{E}}\\, +\\, \\frac1c\\, \\frac{\\partial\\vec{\\mathbf{B}}}{\\partial t} & = \\vec{\\mathbf{0}} \\\\\n",
    "\\nabla \\cdot \\vec{\\mathbf{B}} & = 0 \n",
    "\\end{align}\n",
    "```\n",
    "### Display\n",
    "\n",
    "$\\begin{align}\n",
    "\\nabla \\times \\vec{\\mathbf{B}} -\\, \\frac1c\\, \\frac{\\partial\\vec{\\mathbf{E}}}{\\partial t} & = \\frac{4\\pi}{c}\\vec{\\mathbf{j}} \\\\   \\nabla \\cdot \\vec{\\mathbf{E}} & = 4 \\pi \\rho \\\\\n",
    "\\nabla \\times \\vec{\\mathbf{E}}\\, +\\, \\frac1c\\, \\frac{\\partial\\vec{\\mathbf{B}}}{\\partial t} & = \\vec{\\mathbf{0}} \\\\\n",
    "\\nabla \\cdot \\vec{\\mathbf{B}} & = 0 \n",
    "\\end{align}$"
   ]
  },
  {
   "cell_type": "markdown",
   "metadata": {},
   "source": [
    "## Equation Numbering and References\n",
    "\n",
    "Equation numbering and referencing will be available in a future version of the Jupyter notebook."
   ]
  },
  {
   "cell_type": "markdown",
   "metadata": {},
   "source": [
    "## Inline Typesetting (Mixing Markdown and TeX)\n",
    "\n",
    "While display equations look good for a page of samples, the ability to mix math and *formatted* **text** in a paragraph is also important.\n",
    "\n",
    "### Source\n",
    "```\n",
    "This expression $\\sqrt{3x-1}+(1+x)^2$ is an example of a TeX inline equation in a [Markdown-formatted](https://daringfireball.net/projects/markdown/) sentence.  \n",
    "```\n",
    "\n",
    "### Display\n",
    "This expression $\\sqrt{3x-1}+(1+x)^2$ is an example of a TeX inline equation in a [Markdown-formatted](https://daringfireball.net/projects/markdown/) sentence.  "
   ]
  },
  {
   "cell_type": "markdown",
   "metadata": {},
   "source": [
    "## Other Syntax\n",
    "\n",
    "You will notice in other places on the web that `$$` are needed explicitly to begin and end MathJax typesetting.  This is **not** required if you will be using TeX environments, but the Jupyter notebook will accept this syntax on legacy notebooks.  \n",
    "\n",
    "## Source\n",
    "\n",
    "```\n",
    "$$\n",
    "\\begin{array}{c}\n",
    "y_1 \\\\\\\n",
    "y_2 \\mathtt{t}_i \\\\\\\n",
    "z_{3,4}\n",
    "\\end{array}\n",
    "$$\n",
    "```\n",
    "\n",
    "```\n",
    "$$\n",
    "\\begin{array}{c}\n",
    "y_1 \\cr\n",
    "y_2 \\mathtt{t}_i \\cr\n",
    "y_{3}\n",
    "\\end{array}\n",
    "$$\n",
    "```\n",
    "\n",
    "```\n",
    "$$\\begin{eqnarray} \n",
    "x' &=& &x \\sin\\phi &+& z \\cos\\phi \\\\\n",
    "z' &=& - &x \\cos\\phi &+& z \\sin\\phi \\\\\n",
    "\\end{eqnarray}$$\n",
    "```\n",
    "\n",
    "```\n",
    "$$\n",
    "x=4\n",
    "$$\n",
    "```\n",
    "\n",
    "## Display\n",
    "\n",
    "$$\n",
    "\\begin{array}{c}\n",
    "y_1 \\\\\\\n",
    "y_2 \\mathtt{t}_i \\\\\\\n",
    "z_{3,4}\n",
    "\\end{array}\n",
    "$$\n",
    "\n",
    "$$\n",
    "\\begin{array}{c}\n",
    "y_1 \\cr\n",
    "y_2 \\mathtt{t}_i \\cr\n",
    "y_{3}\n",
    "\\end{array}\n",
    "$$\n",
    "\n",
    "$$\\begin{eqnarray} \n",
    "x' &=& &x \\sin\\phi &+& z \\cos\\phi \\\\\n",
    "z' &=& - &x \\cos\\phi &+& z \\sin\\phi \\\\\n",
    "\\end{eqnarray}$$\n",
    "\n",
    "$$\n",
    "x=4\n",
    "$$"
   ]
  }
 ],
 "metadata": {
  "kernelspec": {
   "display_name": "Python 3",
   "language": "python",
   "name": "python3"
  },
  "language_info": {
   "codemirror_mode": {
    "name": "ipython",
    "version": 3
   },
   "file_extension": ".py",
   "mimetype": "text/x-python",
   "name": "python",
   "nbconvert_exporter": "python",
   "pygments_lexer": "ipython3",
   "version": "3.7.3"
  }
 },
 "nbformat": 4,
 "nbformat_minor": 1
}
