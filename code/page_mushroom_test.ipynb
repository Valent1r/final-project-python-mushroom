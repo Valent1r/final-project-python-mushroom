{
   "cells": [
    {
     "cell_type": "heading",
     "level": 1,
     "metadata": {},
     "source": [
      "PROJET MUSHROOM"
     ]
    },
    {
     "cell_type": "markdown",
     "metadata": {},
     "source": [
      "Ceci est un projet sur les champignons."
     ]
    }
  ]
}
